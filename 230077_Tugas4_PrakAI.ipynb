{
  "nbformat": 4,
  "nbformat_minor": 0,
  "metadata": {
    "colab": {
      "provenance": [],
      "gpuType": "T4"
    },
    "kernelspec": {
      "name": "python3",
      "display_name": "Python 3"
    },
    "language_info": {
      "name": "python"
    },
    "accelerator": "GPU"
  },
  "cells": [
    {
      "cell_type": "code",
      "execution_count": null,
      "metadata": {
        "id": "zyn2jCG_yk99"
      },
      "outputs": [],
      "source": [
        "import urllib.request\n",
        "import zipfile\n",
        "import tensorflow as tf\n",
        "import os\n",
        "from tensorflow.keras.preprocessing.image import ImageDataGenerator\n",
        "from tensorflow.keras.models import Sequential\n",
        "from tensorflow.keras.layers import Conv2D, MaxPooling2D, Flatten, Dropout, Dense\n",
        "from tensorflow.keras.optimizers import Adam\n",
        "from tensorflow.keras.callbacks import EarlyStopping"
      ]
    },
    {
      "cell_type": "markdown",
      "source": [
        "**Download dan Ekstrak Dataset**"
      ],
      "metadata": {
        "id": "BKVShSFczsXB"
      }
    },
    {
      "cell_type": "code",
      "source": [
        "# Download dan ekstrak dataset training\n",
        "data_url_1 = 'https://github.com/dicodingacademy/assets/releases/download/release-horse-or-human/horse-or-human.zip'\n",
        "urllib.request.urlretrieve(data_url_1, 'horse-or-human.zip')\n",
        "with zipfile.ZipFile('horse-or-human.zip', 'r') as zip_ref:\n",
        "    zip_ref.extractall('data/horse-or-human')\n",
        "\n",
        "# Download dan ekstrak dataset validasi\n",
        "data_url_2 = 'https://github.com/dicodingacademy/assets/raw/main/Simulation/machine_learning/validation-horse-or-human.zip'\n",
        "urllib.request.urlretrieve(data_url_2, 'validation-horse-or-human.zip')\n",
        "with zipfile.ZipFile('validation-horse-or-human.zip', 'r') as zip_ref:\n",
        "    zip_ref.extractall('data/validation-horse-or-human')"
      ],
      "metadata": {
        "id": "y-utqe0Qy8oX"
      },
      "execution_count": null,
      "outputs": []
    },
    {
      "cell_type": "markdown",
      "source": [
        "**Data Preprocessing (ImageDataGenerator)**"
      ],
      "metadata": {
        "id": "IpgrcVIjzvdZ"
      }
    },
    {
      "cell_type": "code",
      "source": [
        "TRAINING_DIR = 'data/horse-or-human'\n",
        "VALIDATION_DIR = 'data/validation-horse-or-human'\n",
        "\n",
        "train_datagen = ImageDataGenerator(\n",
        "    rescale=1/255,\n",
        "    rotation_range=40,\n",
        "    horizontal_flip=True,\n",
        "    shear_range=0.2,\n",
        "    zoom_range=0.2,\n",
        "    fill_mode='nearest'\n",
        ")\n",
        "\n",
        "validation_datagen = ImageDataGenerator(rescale=1./255)\n",
        "\n",
        "train_generator = train_datagen.flow_from_directory(\n",
        "    TRAINING_DIR,\n",
        "    target_size=(150, 150),\n",
        "    batch_size=32,\n",
        "    class_mode='binary'\n",
        ")\n",
        "\n",
        "validation_generator = validation_datagen.flow_from_directory(\n",
        "    VALIDATION_DIR,\n",
        "    target_size=(150, 150),\n",
        "    batch_size=32,\n",
        "    class_mode='binary'\n",
        ")"
      ],
      "metadata": {
        "colab": {
          "base_uri": "https://localhost:8080/"
        },
        "id": "vzeMMj42zI8L",
        "outputId": "bd0e8c07-817e-4e21-83fa-6f60c75b2d7c"
      },
      "execution_count": null,
      "outputs": [
        {
          "output_type": "stream",
          "name": "stdout",
          "text": [
            "Found 1027 images belonging to 2 classes.\n",
            "Found 256 images belonging to 2 classes.\n"
          ]
        }
      ]
    },
    {
      "cell_type": "markdown",
      "source": [
        "**Build Model**"
      ],
      "metadata": {
        "id": "Zgn84qDMzy6Z"
      }
    },
    {
      "cell_type": "code",
      "source": [
        "model = tf.keras.models.Sequential([\n",
        "    Conv2D(64, (3, 3), activation='relu', input_shape=(150, 150, 3)),\n",
        "    MaxPooling2D(2, 2),\n",
        "\n",
        "    Conv2D(128, (3, 3), activation='relu'),\n",
        "    MaxPooling2D(2, 2),\n",
        "\n",
        "    Conv2D(128, (3, 3), activation='relu'),\n",
        "    MaxPooling2D(2, 2),\n",
        "\n",
        "    Conv2D(128, (3, 3), activation='relu'),\n",
        "    MaxPooling2D(2, 2),\n",
        "\n",
        "    Dropout(0.2),\n",
        "    Flatten(),\n",
        "    Dense(512, activation='relu'),\n",
        "    Dense(1, activation='sigmoid')  # DO NOT CHANGE THIS LINE!\n",
        "])\n"
      ],
      "metadata": {
        "id": "clu5RrsFzMeU"
      },
      "execution_count": null,
      "outputs": []
    },
    {
      "cell_type": "markdown",
      "source": [
        "**Compile dan Train Model**"
      ],
      "metadata": {
        "id": "D12fjVDZz5vt"
      }
    },
    {
      "cell_type": "code",
      "source": [
        "model.compile(\n",
        "    loss='binary_crossentropy',\n",
        "    optimizer=Adam(learning_rate=0.001),\n",
        "    metrics=['accuracy']\n",
        ")\n",
        "\n",
        "early_stop = EarlyStopping(\n",
        "    monitor='val_accuracy',  # Monitoring validation accuracy\n",
        "    patience=10,\n",
        "    restore_best_weights=True,  # This ensures we keep the best weights\n",
        "    verbose=1  # To see when early stopping occurs\n",
        ")\n",
        "\n",
        "history = model.fit(\n",
        "    train_generator,\n",
        "    epochs=15,\n",
        "    validation_data=validation_generator,\n",
        "    callbacks=[early_stop],\n",
        "    verbose=1\n",
        ")"
      ],
      "metadata": {
        "colab": {
          "base_uri": "https://localhost:8080/"
        },
        "id": "wy3RYK36zVbI",
        "outputId": "0ba00d98-acae-4b2b-ea2b-18f051ef72b5"
      },
      "execution_count": null,
      "outputs": [
        {
          "output_type": "stream",
          "name": "stdout",
          "text": [
            "Epoch 1/15\n",
            "\u001b[1m33/33\u001b[0m \u001b[32m━━━━━━━━━━━━━━━━━━━━\u001b[0m\u001b[37m\u001b[0m \u001b[1m18s\u001b[0m 427ms/step - accuracy: 0.9425 - loss: 0.1638 - val_accuracy: 0.8438 - val_loss: 0.8836\n",
            "Epoch 2/15\n",
            "\u001b[1m33/33\u001b[0m \u001b[32m━━━━━━━━━━━━━━━━━━━━\u001b[0m\u001b[37m\u001b[0m \u001b[1m12s\u001b[0m 355ms/step - accuracy: 0.9467 - loss: 0.1598 - val_accuracy: 0.7188 - val_loss: 1.6936\n",
            "Epoch 3/15\n",
            "\u001b[1m33/33\u001b[0m \u001b[32m━━━━━━━━━━━━━━━━━━━━\u001b[0m\u001b[37m\u001b[0m \u001b[1m12s\u001b[0m 358ms/step - accuracy: 0.9780 - loss: 0.0710 - val_accuracy: 0.6719 - val_loss: 4.6900\n",
            "Epoch 4/15\n",
            "\u001b[1m33/33\u001b[0m \u001b[32m━━━━━━━━━━━━━━━━━━━━\u001b[0m\u001b[37m\u001b[0m \u001b[1m12s\u001b[0m 355ms/step - accuracy: 0.9801 - loss: 0.0669 - val_accuracy: 0.6602 - val_loss: 5.3888\n",
            "Epoch 5/15\n",
            "\u001b[1m33/33\u001b[0m \u001b[32m━━━━━━━━━━━━━━━━━━━━\u001b[0m\u001b[37m\u001b[0m \u001b[1m11s\u001b[0m 347ms/step - accuracy: 0.9759 - loss: 0.0709 - val_accuracy: 0.6367 - val_loss: 4.2836\n",
            "Epoch 6/15\n",
            "\u001b[1m33/33\u001b[0m \u001b[32m━━━━━━━━━━━━━━━━━━━━\u001b[0m\u001b[37m\u001b[0m \u001b[1m11s\u001b[0m 346ms/step - accuracy: 0.9749 - loss: 0.0518 - val_accuracy: 0.7188 - val_loss: 3.9279\n",
            "Epoch 7/15\n",
            "\u001b[1m33/33\u001b[0m \u001b[32m━━━━━━━━━━━━━━━━━━━━\u001b[0m\u001b[37m\u001b[0m \u001b[1m11s\u001b[0m 347ms/step - accuracy: 0.9766 - loss: 0.0777 - val_accuracy: 0.7695 - val_loss: 2.6798\n",
            "Epoch 8/15\n",
            "\u001b[1m33/33\u001b[0m \u001b[32m━━━━━━━━━━━━━━━━━━━━\u001b[0m\u001b[37m\u001b[0m \u001b[1m12s\u001b[0m 351ms/step - accuracy: 0.9755 - loss: 0.0429 - val_accuracy: 0.6758 - val_loss: 6.4102\n",
            "Epoch 9/15\n",
            "\u001b[1m33/33\u001b[0m \u001b[32m━━━━━━━━━━━━━━━━━━━━\u001b[0m\u001b[37m\u001b[0m \u001b[1m12s\u001b[0m 349ms/step - accuracy: 0.9877 - loss: 0.0230 - val_accuracy: 0.6758 - val_loss: 5.7747\n",
            "Epoch 10/15\n",
            "\u001b[1m33/33\u001b[0m \u001b[32m━━━━━━━━━━━━━━━━━━━━\u001b[0m\u001b[37m\u001b[0m \u001b[1m20s\u001b[0m 340ms/step - accuracy: 0.9844 - loss: 0.0547 - val_accuracy: 0.7305 - val_loss: 5.8659\n",
            "Epoch 11/15\n",
            "\u001b[1m33/33\u001b[0m \u001b[32m━━━━━━━━━━━━━━━━━━━━\u001b[0m\u001b[37m\u001b[0m \u001b[1m11s\u001b[0m 322ms/step - accuracy: 0.9765 - loss: 0.0756 - val_accuracy: 0.7617 - val_loss: 2.6421\n",
            "Epoch 11: early stopping\n",
            "Restoring model weights from the end of the best epoch: 1.\n"
          ]
        }
      ]
    },
    {
      "cell_type": "code",
      "source": [
        "# Get training metrics from history\n",
        "acc = history.history['accuracy']\n",
        "val_acc = history.history['val_accuracy']\n",
        "loss = history.history['loss']\n",
        "val_loss = history.history['val_loss']\n",
        "\n",
        "final_train_acc = acc[-1]\n",
        "final_val_acc = val_acc[-1]\n",
        "\n",
        "# NEW: Get the best validation accuracy during training (what EarlyStopping saved)\n",
        "best_val_acc = max(val_acc)\n",
        "best_acc = max(acc)\n",
        "best_epoch = val_acc.index(best_val_acc) + 1  # +1 because epochs start at 1\n",
        "\n",
        "print('\\nTraining Results:')\n",
        "print(f'Final Training Accuracy: {final_train_acc*100:.2f}%')\n",
        "print(f'Final Validation Accuracy: {final_val_acc*100:.2f}%')\n",
        "print(f'\\nBest Accuracy: {best_acc*100:.2f}% (epoch {best_epoch})')\n",
        "print(f'Best Validation Accuracy: {best_val_acc*100:.2f}% (epoch {best_epoch})')\n",
        "\n",
        "if best_val_acc > 0.83:\n",
        "    print(\"\\nModel mencapai target validation accuracy > 83%!\")\n",
        "else:\n",
        "    print(\"\\nModel belum mencapai target. Rekomendasi:\")\n",
        "    print(\"- Tingkatkan jumlah epoch (misal: 20-25)\")"
      ],
      "metadata": {
        "colab": {
          "base_uri": "https://localhost:8080/"
        },
        "id": "XCkV_Fh__MlG",
        "outputId": "f1a09cb2-0b42-4670-c2ca-b4e95a64f0e5"
      },
      "execution_count": null,
      "outputs": [
        {
          "output_type": "stream",
          "name": "stdout",
          "text": [
            "\n",
            "Training Results:\n",
            "Final Training Accuracy: 97.18%\n",
            "Final Validation Accuracy: 76.17%\n",
            "\n",
            "Best Accuracy: 98.93% (epoch 1)\n",
            "Best Validation Accuracy: 84.38% (epoch 1)\n",
            "\n",
            "Model mencapai target validation accuracy > 83%!\n"
          ]
        }
      ]
    },
    {
      "cell_type": "markdown",
      "source": [
        "**Save Model ke File**"
      ],
      "metadata": {
        "id": "C7_19lJ9z-my"
      }
    },
    {
      "cell_type": "code",
      "source": [
        "model.save(\"model_05.h5\")"
      ],
      "metadata": {
        "id": "ckj3lP8IzX8s",
        "colab": {
          "base_uri": "https://localhost:8080/"
        },
        "outputId": "2cd14d93-3d84-422e-b223-d184aade3565"
      },
      "execution_count": null,
      "outputs": [
        {
          "output_type": "stream",
          "name": "stderr",
          "text": [
            "WARNING:absl:You are saving your model as an HDF5 file via `model.save()` or `keras.saving.save_model(model)`. This file format is considered legacy. We recommend using instead the native Keras format, e.g. `model.save('my_model.keras')` or `keras.saving.save_model(model, 'my_model.keras')`. \n"
          ]
        }
      ]
    },
    {
      "cell_type": "code",
      "source": [
        "from google.colab import files\n",
        "files.download('model_05.h5')"
      ],
      "metadata": {
        "id": "UyaJclWJzaVF",
        "colab": {
          "base_uri": "https://localhost:8080/",
          "height": 34
        },
        "outputId": "b3f84593-0253-4ce1-fa06-c1a156e2c9a0"
      },
      "execution_count": null,
      "outputs": [
        {
          "output_type": "display_data",
          "data": {
            "text/plain": [
              "<IPython.core.display.Javascript object>"
            ],
            "application/javascript": [
              "\n",
              "    async function download(id, filename, size) {\n",
              "      if (!google.colab.kernel.accessAllowed) {\n",
              "        return;\n",
              "      }\n",
              "      const div = document.createElement('div');\n",
              "      const label = document.createElement('label');\n",
              "      label.textContent = `Downloading \"${filename}\": `;\n",
              "      div.appendChild(label);\n",
              "      const progress = document.createElement('progress');\n",
              "      progress.max = size;\n",
              "      div.appendChild(progress);\n",
              "      document.body.appendChild(div);\n",
              "\n",
              "      const buffers = [];\n",
              "      let downloaded = 0;\n",
              "\n",
              "      const channel = await google.colab.kernel.comms.open(id);\n",
              "      // Send a message to notify the kernel that we're ready.\n",
              "      channel.send({})\n",
              "\n",
              "      for await (const message of channel.messages) {\n",
              "        // Send a message to notify the kernel that we're ready.\n",
              "        channel.send({})\n",
              "        if (message.buffers) {\n",
              "          for (const buffer of message.buffers) {\n",
              "            buffers.push(buffer);\n",
              "            downloaded += buffer.byteLength;\n",
              "            progress.value = downloaded;\n",
              "          }\n",
              "        }\n",
              "      }\n",
              "      const blob = new Blob(buffers, {type: 'application/binary'});\n",
              "      const a = document.createElement('a');\n",
              "      a.href = window.URL.createObjectURL(blob);\n",
              "      a.download = filename;\n",
              "      div.appendChild(a);\n",
              "      a.click();\n",
              "      div.remove();\n",
              "    }\n",
              "  "
            ]
          },
          "metadata": {}
        },
        {
          "output_type": "display_data",
          "data": {
            "text/plain": [
              "<IPython.core.display.Javascript object>"
            ],
            "application/javascript": [
              "download(\"download_d99fd3e8-5faf-4280-b617-92de073186ff\", \"model_05.h5\", 43055720)"
            ]
          },
          "metadata": {}
        }
      ]
    }
  ]
}